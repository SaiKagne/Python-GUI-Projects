{
 "cells": [
  {
   "cell_type": "markdown",
   "metadata": {},
   "source": [
    "# <center> Covid-19 Real-Time Notification System"
   ]
  },
  {
   "cell_type": "markdown",
   "metadata": {},
   "source": [
    "## Task 1. Import Libraries "
   ]
  },
  {
   "cell_type": "code",
   "execution_count": 2,
   "metadata": {},
   "outputs": [],
   "source": [
    "from tkinter import *\n",
    "import requests\n",
    "from bs4 import BeautifulSoup\n",
    "import plyer\n",
    "from tkinter import messagebox , filedialog\n",
    "import pandas as pd"
   ]
  },
  {
   "cell_type": "code",
   "execution_count": null,
   "metadata": {},
   "outputs": [],
   "source": []
  },
  {
   "cell_type": "markdown",
   "metadata": {},
   "source": [
    "## Task 2. Web Scraping "
   ]
  },
  {
   "cell_type": "code",
   "execution_count": 8,
   "metadata": {},
   "outputs": [],
   "source": [
    "def scrap():\n",
    "    def notify(title,msg):\n",
    "        plyer.notification.notify(title = title, message = msg, app_icon = 'virus.ico', timeout = 20)\n",
    "        \n",
    "    url = 'https://www.worldometers.info/coronavirus/'\n",
    "    r = requests.get(url)\n",
    "    soup = BeautifulSoup(r.content,'html.parser')\n",
    "    t_body = soup.find('tbody')\n",
    "    t_row = t_body.find_all('tr')\n",
    "    \n",
    "    input_data = country.get()\n",
    "    \n",
    "    \n",
    "    nation,t_cases,n_cases,t_deaths,n_deaths,t_recover,ac_cases = [],[],[],[],[],[],[]\n",
    "    serious,t_cases_pm,t_deaths_pm,t_tests,t_tests_pm = [],[],[],[],[]\n",
    "    \n",
    "    headers = ['nation','t_cases','n_cases','t_deaths','n_deaths','t_recover',\n",
    "               'ac_cases','serious','t_cases_pm','t_deaths_pm','t_tests','t_tests_pm']\n",
    "\n",
    "    for i in t_row:\n",
    "        data = i.find_all('td')\n",
    "        if(data[1].text.strip() == input_data) :\n",
    "            t_cases1 = data[2].text.strip().replace(',','')\n",
    "            t_deaths1 = data[4].text.strip()\n",
    "            n_cases1 = data[3].text.strip()\n",
    "            n_deaths1 = data[5].text.strip() \n",
    "            notify('Corona Virus Stats in {}'.format(input_data),\n",
    "                  'Total Cases : {}\\nTotal Deaths : {}\\nNew Cases : {}\\nNew Deaths : {}'.format(t_cases1,t_deaths1,\n",
    "                                                                                                n_cases1,n_deaths1))\n",
    "            \n",
    "        nation.append(data[1].text.strip())\n",
    "        t_cases.append(int(data[2].text.strip().replace(',','')))\n",
    "        n_cases.append(data[3].text.strip())\n",
    "        t_deaths.append(data[4].text.strip())\n",
    "        n_deaths.append(data[5].text.strip())\n",
    "        t_recover.append(data[6].text.strip())\n",
    "        ac_cases.append(data[7].text.strip())\n",
    "        serious.append(data[8].text.strip())\n",
    "        t_cases_pm.append(data[9].text.strip())\n",
    "        t_deaths_pm.append(data[10].text.strip())\n",
    "        t_tests.append(data[11].text.strip())\n",
    "        t_tests_pm.append(data[12].text.strip())\n",
    "\n",
    "\n",
    "    df = pd.DataFrame(list(zip(nation,t_cases,n_cases,t_deaths,n_deaths,t_recover,ac_cases,\n",
    "                          serious,t_cases_pm,t_deaths_pm,t_tests,t_tests_pm)), columns = headers)\n",
    "    sort = df.sort_values('t_cases', ascending = False)\n",
    "\n",
    "    for k in list_ :\n",
    "        if(k == 'html') :\n",
    "            path2 = '{}/alldata.html'.format(path)\n",
    "            sort.to_html(r'{}'.format(path2))\n",
    "        if(k == 'csv') :\n",
    "            path2 = '{}/alldata.csv'.format(path)\n",
    "            sort.to_csv(r'{}'.format(path2))\n",
    "        \n",
    "        \n",
    "    if(len(list_) != 0) :\n",
    "        messagebox.showinfo('Notification','Corona Data is Saved {}'.format(path2), parent = root)\n",
    "\n"
   ]
  },
  {
   "cell_type": "code",
   "execution_count": null,
   "metadata": {},
   "outputs": [],
   "source": []
  },
  {
   "cell_type": "markdown",
   "metadata": {},
   "source": [
    "## Task 3. Back-End of Buttons Implementation"
   ]
  },
  {
   "cell_type": "code",
   "execution_count": 9,
   "metadata": {},
   "outputs": [],
   "source": [
    "def format_html() :\n",
    "    list_.append('html')\n",
    "    html.configure(state='disabled')\n",
    "    \n",
    "def format_csv() :\n",
    "    list_.append('csv')\n",
    "    csv.configure(state='disabled')\n",
    "\n",
    "    \n",
    "list_ = []\n",
    "path = ''\n",
    "\n",
    "def download() :\n",
    "    global path\n",
    "    if(len(list_) != 0) :\n",
    "        path = filedialog.askdirectory()\n",
    "    scrap()\n",
    "    list_.clear()\n",
    "    html.configure(state='normal')\n",
    "    csv.configure(state='normal')"
   ]
  },
  {
   "cell_type": "code",
   "execution_count": null,
   "metadata": {},
   "outputs": [],
   "source": []
  },
  {
   "cell_type": "markdown",
   "metadata": {},
   "source": [
    "## Task 4. GUI Execution"
   ]
  },
  {
   "cell_type": "code",
   "execution_count": 10,
   "metadata": {},
   "outputs": [],
   "source": [
    "# SCREEN INITIALIZATION \n",
    "root = Tk()\n",
    "\n",
    "\n",
    "# FRAME MODIFICATION\n",
    "root.title('COVID-19 REAL-TIME NOTIFICATION SYSTEM')\n",
    "root.geometry('530x300+550+240')\n",
    "root.configure(bg = 'yellow')\n",
    "root.iconbitmap('virus.ico')\n",
    "\n",
    "\n",
    "# HEADING LABEL EXECUTION\n",
    "\n",
    "lab1 = Label(root ,text = 'Covid-19 Information Stats' , width = 22, bg = 'red',fg = 'white',\n",
    "             font = ('arial',29,'italic bold'))\n",
    "lab1.place(x=0 , y=0)\n",
    "\n",
    "\n",
    "# INPUT LABEL IMPLEMENTATION\n",
    "lab2 = Label(root ,text = 'Enter Country :' , bg = 'yellow',fg = 'black',\n",
    "             font = ('arial',20,'italic bold'))\n",
    "lab2.place(x=10 , y=70)\n",
    "\n",
    "\n",
    "# DOWNLOAD FORMAT LABEL IMPLEMENTATION\n",
    "lab3 = Label(root ,text = 'Download Format :' , bg = 'yellow',fg = 'black',\n",
    "             font = ('arial',20,'italic bold'))\n",
    "lab3.place(x=10 , y=140)\n",
    "\n",
    "\n",
    "# INPUT BOX EXECUTION\n",
    "country = StringVar()\n",
    "entb1 = Entry(root, textvariable = country ,bg = 'white', fg = 'red', bd = 2, font = ('arial', 20, 'italic bold'),\n",
    "          insertbackground = 'green', insertwidth = 3 , justify = 'center', relief = SOLID)\n",
    "entb1.place(x=220 , y = 70)\n",
    "\n",
    "\n",
    "# HTML BUTTON IMPLEMENTATION\n",
    "html = Button(root , text = 'HTML', bg = 'green' , fg = 'white', font = ('arial',15,'italic bold'), \n",
    "             activebackground = 'pink',bd = 5, relief = RIDGE,width = 8,height = 1,\n",
    "             cursor = 'watch', anchor = CENTER, command = format_html)\n",
    "html.place(x=265 , y = 140)\n",
    "\n",
    "\n",
    "# CSV BUTTON IMPLEMENTATION\n",
    "csv = Button(root , text = 'CSV', bg = 'green' , fg = 'white', font = ('arial',15,'italic bold'), \n",
    "             activebackground = 'pink',bd = 5, relief = RIDGE,width = 8,height = 1,\n",
    "             cursor = 'watch', anchor = CENTER, command = format_csv)\n",
    "csv.place(x=400 , y = 140)\n",
    "\n",
    "\n",
    "# SUBMIT BUTTON EXECUTION\n",
    "sub = Button(root , text = 'SUBMIT', bg = 'blue' , fg = 'white', font = ('arial',15,'italic bold'), \n",
    "             activebackground = 'pink',bd = 5, relief = RIDGE,width = 20,height = 1,\n",
    "             cursor = 'watch', anchor = CENTER, command = download)\n",
    "sub.place(x=130 , y = 250)\n",
    "\n",
    "\n",
    "root.mainloop()"
   ]
  },
  {
   "cell_type": "code",
   "execution_count": null,
   "metadata": {},
   "outputs": [],
   "source": []
  },
  {
   "cell_type": "code",
   "execution_count": 5,
   "metadata": {},
   "outputs": [
    {
     "ename": "NameError",
     "evalue": "name 'title' is not defined",
     "output_type": "error",
     "traceback": [
      "\u001b[1;31m---------------------------------------------------------------------------\u001b[0m",
      "\u001b[1;31mNameError\u001b[0m                                 Traceback (most recent call last)",
      "\u001b[1;32m<ipython-input-5-eee3914a8eb9>\u001b[0m in \u001b[0;36m<module>\u001b[1;34m\u001b[0m\n\u001b[1;32m----> 1\u001b[1;33m \u001b[0mtitle\u001b[0m\u001b[1;33m\u001b[0m\u001b[1;33m\u001b[0m\u001b[0m\n\u001b[0m",
      "\u001b[1;31mNameError\u001b[0m: name 'title' is not defined"
     ]
    }
   ],
   "source": []
  },
  {
   "cell_type": "code",
   "execution_count": null,
   "metadata": {},
   "outputs": [],
   "source": []
  }
 ],
 "metadata": {
  "kernelspec": {
   "display_name": "Python 3",
   "language": "python",
   "name": "python3"
  },
  "language_info": {
   "codemirror_mode": {
    "name": "ipython",
    "version": 3
   },
   "file_extension": ".py",
   "mimetype": "text/x-python",
   "name": "python",
   "nbconvert_exporter": "python",
   "pygments_lexer": "ipython3",
   "version": "3.7.4"
  }
 },
 "nbformat": 4,
 "nbformat_minor": 2
}
