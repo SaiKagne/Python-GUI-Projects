{
 "cells": [
  {
   "cell_type": "markdown",
   "metadata": {},
   "source": [
    "# <center> 4. Gravity Simulator Application"
   ]
  },
  {
   "cell_type": "markdown",
   "metadata": {},
   "source": [
    "## >> Importing Libraries"
   ]
  },
  {
   "cell_type": "code",
   "execution_count": null,
   "metadata": {},
   "outputs": [],
   "source": [
    "from tkinter import *\n",
    "import matplotlib.pyplot as plt\n",
    "import matplotlib.style as style\n",
    "style.use('dark_background')"
   ]
  },
  {
   "cell_type": "code",
   "execution_count": null,
   "metadata": {},
   "outputs": [],
   "source": []
  },
  {
   "cell_type": "markdown",
   "metadata": {},
   "source": [
    "## >> Define Global Variables"
   ]
  },
  {
   "cell_type": "code",
   "execution_count": null,
   "metadata": {},
   "outputs": [],
   "source": [
    "time = 0\n",
    "data = {}\n",
    "for i in range(1,5):\n",
    "    data['data_%d' % i] = []"
   ]
  },
  {
   "cell_type": "code",
   "execution_count": null,
   "metadata": {},
   "outputs": [],
   "source": []
  },
  {
   "cell_type": "markdown",
   "metadata": {},
   "source": [
    "## >> Move Function "
   ]
  },
  {
   "cell_type": "code",
   "execution_count": null,
   "metadata": {},
   "outputs": [],
   "source": [
    "def move(event):\n",
    "\n",
    "    if \"BALL\" in main_canvas.gettags(CURRENT):\n",
    "        x1 = main_canvas.coords(CURRENT)[0]\n",
    "        x2 = main_canvas.coords(CURRENT)[2]\n",
    "\n",
    "        main_canvas.coords(CURRENT, x1, event.y, x2, event.y+10)\n",
    "\n",
    "        if main_canvas.coords(CURRENT)[3] < 15:\n",
    "            main_canvas.coords(CURRENT, x1, 5, x2, 15)\n",
    "        elif main_canvas.coords(CURRENT)[3] > 415:\n",
    "            main_canvas.coords(CURRENT, x1, 405, x2, 415)\n",
    "\n",
    "    update_height()"
   ]
  },
  {
   "cell_type": "code",
   "execution_count": null,
   "metadata": {},
   "outputs": [],
   "source": []
  },
  {
   "cell_type": "markdown",
   "metadata": {},
   "source": [
    "## >> Height Updation"
   ]
  },
  {
   "cell_type": "code",
   "execution_count": null,
   "metadata": {},
   "outputs": [],
   "source": [
    "def update_height():\n",
    "\n",
    "    for i in range(1,5):\n",
    "        heights['height_%d' % i].config(text=\"Height: \" + str(round(415 - main_canvas.coords(balls['BALL_%d' % i])[3], 2)))"
   ]
  },
  {
   "cell_type": "code",
   "execution_count": null,
   "metadata": {},
   "outputs": [],
   "source": []
  },
  {
   "cell_type": "markdown",
   "metadata": {},
   "source": [
    "## >> Step Function "
   ]
  },
  {
   "cell_type": "code",
   "execution_count": null,
   "metadata": {},
   "outputs": [],
   "source": [
    "def step(t):\n",
    "\n",
    "    global time\n",
    "\n",
    "    for i in range(1,5):\n",
    "\n",
    "        a = -1*float(accelerations['a_%d' % i].get())\n",
    "        v = -1*float(velocity['v_%d' % i].get())\n",
    "        d = v*t + 0.5*a*t**2\n",
    "\n",
    "        x1 = main_canvas.coords(balls['BALL_%d' % i])[0]\n",
    "        x2 = main_canvas.coords(balls['BALL_%d' % i])[2]\n",
    "\n",
    "        if main_canvas.coords(balls['BALL_%d' % i])[3] + d <= 415:\n",
    "            main_canvas.move(balls['BALL_%d' % i], 0, d)\n",
    "            y2 = main_canvas.coords(balls['BALL_%d' % i])[3]\n",
    "            main_canvas.create_line(x1, y2, x2, y2, tag=\"DASH\")\n",
    "        else:\n",
    "            main_canvas.coords(balls['BALL_%d' % i], x1, 405, x2, 415)\n",
    "\n",
    "        vf = v + a*t\n",
    "\n",
    "        velocity['v_%d' % i].delete(0, END)\n",
    "        velocity['v_%d' % i].insert(0, str(round(-1*vf, 2)))\n",
    "\n",
    "        data['data_%d' % i].append((time, 415 - main_canvas.coords(balls['BALL_%d' % i])[3]))\n",
    "\n",
    "    update_height()\n",
    "\n",
    "    time += t"
   ]
  },
  {
   "cell_type": "code",
   "execution_count": null,
   "metadata": {},
   "outputs": [],
   "source": []
  },
  {
   "cell_type": "markdown",
   "metadata": {},
   "source": [
    "## >> Run Function "
   ]
  },
  {
   "cell_type": "code",
   "execution_count": null,
   "metadata": {},
   "outputs": [],
   "source": [
    "def run():\n",
    "\n",
    "    step(t_slider.get())\n",
    "\n",
    "    while 15 < main_canvas.coords(balls['BALL_1'])[3] < 415 or 15 < main_canvas.coords(balls['BALL_2'])[3] < 415 or 15 < main_canvas.coords(balls['BALL_3'])[3] < 415 or 15 < main_canvas.coords(balls['BALL_4'])[3] < 415:\n",
    "        step(t_slider.get())"
   ]
  },
  {
   "cell_type": "code",
   "execution_count": null,
   "metadata": {},
   "outputs": [],
   "source": []
  },
  {
   "cell_type": "markdown",
   "metadata": {},
   "source": [
    "## >> Graph Function"
   ]
  },
  {
   "cell_type": "code",
   "execution_count": null,
   "metadata": {},
   "outputs": [],
   "source": [
    "def graph():\n",
    "\n",
    "    colors = ['red', 'green', 'blue', 'yellow']\n",
    "\n",
    "    for i in range(1,5):\n",
    "\n",
    "        x = []\n",
    "        y = []\n",
    "\n",
    "        for data_list in data['data_%d' % i]:\n",
    "            x.append(data_list[0])\n",
    "            y.append(data_list[1])\n",
    "\n",
    "        plt.plot(x, y, '--',color=colors[i-1])\n",
    "\n",
    "    plt.title('Distance Vs. Time', fontsize = 15)\n",
    "    plt.xlabel('Time', fontsize = 13)\n",
    "    plt.ylabel('Distance', fontsize = 13)\n",
    "    plt.legend(['BALL_1','BALL_2','BALL_3','BALL_4'],loc = 2)\n",
    "    plt.grid(color = 'w', linestyle = '--', linewidth = 0.4)\n",
    "    plt.show()"
   ]
  },
  {
   "cell_type": "code",
   "execution_count": null,
   "metadata": {},
   "outputs": [],
   "source": []
  },
  {
   "cell_type": "markdown",
   "metadata": {},
   "source": [
    "## >> Rest Function"
   ]
  },
  {
   "cell_type": "code",
   "execution_count": null,
   "metadata": {},
   "outputs": [],
   "source": [
    "def reset():\n",
    "\n",
    "    global time\n",
    "\n",
    "    time = 0\n",
    "    main_canvas.delete(\"DASH\")\n",
    "\n",
    "    for i in range(1,5):\n",
    "\n",
    "        velocity['v_%d' % i].delete(0, END)\n",
    "        velocity['v_%d' % i].insert(0, '0')\n",
    "        accelerations['a_%d' % i].delete(0, END)\n",
    "        accelerations['a_%d' % i].insert(0, '0')\n",
    "\n",
    "        main_canvas.coords(balls['BALL_%d' % i], 45+(i-1)*100, 405, 55+(i-1)*100, 415)\n",
    "\n",
    "        data['data_%d' % i].clear()\n",
    "\n",
    "    update_height()\n",
    "    t_slider.set(1)"
   ]
  },
  {
   "cell_type": "code",
   "execution_count": null,
   "metadata": {},
   "outputs": [],
   "source": []
  },
  {
   "cell_type": "markdown",
   "metadata": {},
   "source": [
    "## >> GUI Initialization"
   ]
  },
  {
   "cell_type": "code",
   "execution_count": null,
   "metadata": {},
   "outputs": [],
   "source": [
    "root = Tk()\n",
    "root.title('Gravity Simulator')\n",
    "root.iconbitmap('earth.ico')\n",
    "root.geometry('500x660')\n",
    "root.configure(bg='coral')\n",
    "root.resizable(0,0)"
   ]
  },
  {
   "cell_type": "code",
   "execution_count": null,
   "metadata": {},
   "outputs": [],
   "source": []
  },
  {
   "cell_type": "markdown",
   "metadata": {},
   "source": [
    "## >> Frames Initialization"
   ]
  },
  {
   "cell_type": "code",
   "execution_count": null,
   "metadata": {},
   "outputs": [],
   "source": [
    "canvas_frame = Frame(root)\n",
    "input_frame = Frame(root,bg='coral')\n",
    "canvas_frame.pack(pady=10)\n",
    "input_frame.pack(fill=BOTH, expand=True)\n",
    "\n",
    "main_canvas = Canvas(canvas_frame,width=400 , height=415, bg='white')\n",
    "main_canvas.grid(row=0, column=0, padx=2, pady=2)"
   ]
  },
  {
   "cell_type": "code",
   "execution_count": null,
   "metadata": {},
   "outputs": [],
   "source": []
  },
  {
   "cell_type": "markdown",
   "metadata": {},
   "source": [
    "## >> Lines on Frame"
   ]
  },
  {
   "cell_type": "code",
   "execution_count": null,
   "metadata": {},
   "outputs": [],
   "source": [
    "line_0 = main_canvas.create_line(2,0,2,415)\n",
    "line_1 = main_canvas.create_line(100,0,100,415)\n",
    "line_2 = main_canvas.create_line(200,0,200,415)\n",
    "line_3 = main_canvas.create_line(300,0,300,415)\n",
    "line_4 = main_canvas.create_line(400,0,400,415)"
   ]
  },
  {
   "cell_type": "code",
   "execution_count": null,
   "metadata": {},
   "outputs": [],
   "source": []
  },
  {
   "cell_type": "markdown",
   "metadata": {},
   "source": [
    "## >> Balls on Canvas"
   ]
  },
  {
   "cell_type": "code",
   "execution_count": null,
   "metadata": {},
   "outputs": [],
   "source": [
    "balls = {}\n",
    "balls['BALL_1'] = main_canvas.create_oval(45,405,55,415,fill='red',tag=\"BALL\")\n",
    "balls['BALL_2'] = main_canvas.create_oval(145,405,155,415,fill='green',tag=\"BALL\")\n",
    "balls['BALL_3'] = main_canvas.create_oval(245,405,255,415,fill='blue',tag=\"BALL\")\n",
    "balls['BALL_4'] = main_canvas.create_oval(345,405,355,415,fill='yellow',tag=\"BALL\")"
   ]
  },
  {
   "cell_type": "code",
   "execution_count": null,
   "metadata": {},
   "outputs": [],
   "source": []
  },
  {
   "cell_type": "markdown",
   "metadata": {},
   "source": [
    "## >> Labels on Frame"
   ]
  },
  {
   "cell_type": "code",
   "execution_count": null,
   "metadata": {},
   "outputs": [],
   "source": [
    "Label(input_frame,text='d',bg='coral',font = ('arial',10,'italic bold')).grid(row=0,column=0,ipadx=22)\n",
    "Label(input_frame,text='vi',bg='coral',font = ('arial',10,'italic bold')).grid(row=1,column=0)\n",
    "Label(input_frame,text='a',bg='coral',font = ('arial',10,'italic bold')).grid(row=2,column=0)\n",
    "Label(input_frame,text='t',bg='coral',font = ('arial',10,'italic bold')).grid(row=3,column=0)"
   ]
  },
  {
   "cell_type": "code",
   "execution_count": null,
   "metadata": {},
   "outputs": [],
   "source": []
  },
  {
   "cell_type": "markdown",
   "metadata": {},
   "source": [
    "## >> Heights, Velocity, Acceleration on Frame"
   ]
  },
  {
   "cell_type": "code",
   "execution_count": null,
   "metadata": {},
   "outputs": [],
   "source": [
    "heights = {}\n",
    "for i in range(1,5):\n",
    "    heights['height_%d' % i] = Label(input_frame,bg='coral', text=\"Height: \" + str(415 - main_canvas.coords(balls['BALL_%d' % i])[3]),font = ('arial',10,'bold'))\n",
    "    heights['height_%d' % i].grid(row=0, column=i)\n",
    "\n",
    "\n",
    "velocity = {}\n",
    "for i in range(1,5):\n",
    "    velocity['v_%d' % i] = Entry(input_frame,width=15,justify='center',bd=1,relief = SOLID,font = ('arial',8,'bold'))\n",
    "    velocity['v_%d' % i].grid(row=1,column=i,padx=1)\n",
    "    velocity['v_%d' % i].insert(0, '0')\n",
    "\n",
    "\n",
    "accelerations = {}\n",
    "for i in range(1,5):\n",
    "    accelerations['a_%d' % i] = Entry(input_frame, width=15,justify='center',bd=1,relief = SOLID,font = ('arial',8,'bold'))\n",
    "    accelerations['a_%d' % i].grid(row=2, column=i, padx=1)\n",
    "    accelerations['a_%d' % i].insert(0, '0')\n",
    "\n",
    "\n",
    "t_slider = Scale(input_frame,bg='coral', from_=0, to=1, tickinterval=.1, resolution=.01, orient=HORIZONTAL,font = ('arial',8,'bold'))\n",
    "t_slider.grid(row=3, column=1, columnspan=4, sticky='WE')\n",
    "t_slider.set(1)\n"
   ]
  },
  {
   "cell_type": "code",
   "execution_count": null,
   "metadata": {},
   "outputs": [],
   "source": []
  },
  {
   "cell_type": "markdown",
   "metadata": {},
   "source": [
    "## >> Buttons Execution"
   ]
  },
  {
   "cell_type": "code",
   "execution_count": null,
   "metadata": {},
   "outputs": [],
   "source": [
    "step_button = Button(input_frame, text=\"Step\",bg='white',bd=3,relief=RIDGE,font = ('arial',10,'italic bold'),activebackground = 'RoyalBlue1', command=lambda:step(t_slider.get()))\n",
    "run_button = Button(input_frame, text=\"Run\",bg='white',bd=3,relief=RIDGE,font = ('arial',10,'italic bold'),activebackground = 'RoyalBlue1', command=run)\n",
    "graph_button = Button(input_frame, text=\"Graph\",bg='white',bd=3,relief=RIDGE,font = ('arial',10,'italic bold'),activebackground = 'RoyalBlue1', command=graph)\n",
    "reset_button = Button(input_frame, text=\"Reset\",bg='white',bd=3,relief=RIDGE,font = ('arial',10,'italic bold'),activebackground = 'RoyalBlue1', command=reset)\n",
    "quit_button = Button(input_frame, text=\"Quit\",bg='white',bd=3,relief=RIDGE,font = ('arial',10,'italic bold'),activebackground = 'RoyalBlue1',command=root.destroy)\n",
    "\n",
    "step_button.grid(row=4, column=1, pady=(10,0), sticky=\"WE\")\n",
    "run_button.grid(row=4, column=2, pady=(10,0), sticky=\"WE\")\n",
    "graph_button.grid(row=4, column=3, pady=(10,0), sticky=\"WE\")\n",
    "reset_button.grid(row=4, column=4, pady=(10,0), sticky=\"WE\")\n",
    "quit_button.grid(row=5, column=2, columnspan=2, sticky=\"WE\")\n",
    "\n",
    "\n",
    "root.bind('<B1-Motion>', move)\n",
    "\n",
    "root.mainloop()"
   ]
  },
  {
   "cell_type": "code",
   "execution_count": null,
   "metadata": {},
   "outputs": [],
   "source": []
  },
  {
   "cell_type": "code",
   "execution_count": null,
   "metadata": {},
   "outputs": [],
   "source": []
  }
 ],
 "metadata": {
  "kernelspec": {
   "display_name": "Python 3",
   "language": "python",
   "name": "python3"
  },
  "language_info": {
   "codemirror_mode": {
    "name": "ipython",
    "version": 3
   },
   "file_extension": ".py",
   "mimetype": "text/x-python",
   "name": "python",
   "nbconvert_exporter": "python",
   "pygments_lexer": "ipython3",
   "version": "3.7.4"
  }
 },
 "nbformat": 4,
 "nbformat_minor": 2
}
